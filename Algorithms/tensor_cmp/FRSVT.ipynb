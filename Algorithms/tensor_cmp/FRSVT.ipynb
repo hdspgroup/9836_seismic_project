{
 "cells": [
  {
   "cell_type": "code",
   "execution_count": 53,
   "metadata": {},
   "outputs": [],
   "source": [
    "import numpy as np\n",
    "from numpy.linalg import inv as inv\n",
    "from numpy.linalg import qr as qr\n",
    "from numpy.linalg import svd as svd\n",
    "\n",
    "def FRSVT(Z, tau, k, J):\n",
    "    \"\"\"Fast Randomized Singular Value Thresholding (FRSVT).\"\"\"\n",
    "    m, n = Z.shape\n",
    "    R = np.random.randn(n, k)\n",
    "    Q, r = qr(np.matmul(Z, R)) # m-by-k\n",
    "    for j in range(J):\n",
    "        Q, r = qr(np.matmul(Z, np.matmul(Z.T, Q)))\n",
    "    U, Sigma, V = svd(np.matmul(Q.T, Z), full_matrices = 0)\n",
    "    s = Sigma - tau\n",
    "    pos = np.where(s < 0)\n",
    "    s[pos] = 0\n",
    "    return np.matmul(np.matmul(np.matmul(Q, U), np.diag(s)), V)"
   ]
  },
  {
   "cell_type": "code",
   "execution_count": 54,
   "metadata": {},
   "outputs": [],
   "source": [
    "def SVT(X, tau):\n",
    "    U, Sigma, V = svd(X, full_matrices = 0)\n",
    "    s = Sigma - tau\n",
    "    pos = np.where(s < 0)\n",
    "    s[pos] = 0\n",
    "    return np.matmul(np.matmul(U, np.diag(s)), V)"
   ]
  },
  {
   "cell_type": "code",
   "execution_count": 76,
   "metadata": {},
   "outputs": [
    {
     "name": "stdout",
     "output_type": "stream",
     "text": [
      "Running time of FRSVT: 0 seconds.\n",
      "\n",
      "Running time of SVT: 19 seconds.\n",
      "\n",
      "3535725.1680626995\n"
     ]
    }
   ],
   "source": [
    "Z = np.random.rand(5000, 3000)\n",
    "tau = 1\n",
    "k = 20\n",
    "J = 10\n",
    "\n",
    "import time\n",
    "\n",
    "start = time.time()\n",
    "out1 = FRSVT(Z, tau, k, J)\n",
    "end = time.time()\n",
    "print('Running time of FRSVT: %d seconds.'%(end - start))\n",
    "print()\n",
    "\n",
    "start = time.time()\n",
    "out2 = SVT(Z, tau)\n",
    "end = time.time()\n",
    "print('Running time of SVT: %d seconds.'%(end - start))\n",
    "print()\n",
    "\n",
    "print(np.sum(np.abs(out1 - out2)))"
   ]
  },
  {
   "cell_type": "code",
   "execution_count": 77,
   "metadata": {},
   "outputs": [
    {
     "name": "stdout",
     "output_type": "stream",
     "text": [
      "Running time of FRSVT: 2 seconds.\n",
      "\n",
      "Running time of SVT: 20 seconds.\n",
      "\n",
      "3148847.3489114502\n"
     ]
    }
   ],
   "source": [
    "# Z = np.random.rand(5000, 3000)\n",
    "tau = 1\n",
    "k = 200\n",
    "J = 10\n",
    "\n",
    "import time\n",
    "\n",
    "start = time.time()\n",
    "out1 = FRSVT(Z, tau, k, J)\n",
    "end = time.time()\n",
    "print('Running time of FRSVT: %d seconds.'%(end - start))\n",
    "print()\n",
    "\n",
    "start = time.time()\n",
    "out2 = SVT(Z, tau)\n",
    "end = time.time()\n",
    "print('Running time of SVT: %d seconds.'%(end - start))\n",
    "print()\n",
    "\n",
    "print(np.sum(np.abs(out1 - out2)))"
   ]
  },
  {
   "cell_type": "code",
   "execution_count": 78,
   "metadata": {},
   "outputs": [
    {
     "name": "stdout",
     "output_type": "stream",
     "text": [
      "Running time of FRSVT: 4 seconds.\n",
      "\n",
      "Running time of SVT: 19 seconds.\n",
      "\n",
      "3533480.60799225\n"
     ]
    }
   ],
   "source": [
    "# Z = np.random.rand(5000, 3000)\n",
    "tau = 1\n",
    "k = 20\n",
    "J = 100\n",
    "\n",
    "import time\n",
    "\n",
    "start = time.time()\n",
    "out1 = FRSVT(Z, tau, k, J)\n",
    "end = time.time()\n",
    "print('Running time of FRSVT: %d seconds.'%(end - start))\n",
    "print()\n",
    "\n",
    "start = time.time()\n",
    "out2 = SVT(Z, tau)\n",
    "end = time.time()\n",
    "print('Running time of SVT: %d seconds.'%(end - start))\n",
    "print()\n",
    "\n",
    "print(np.sum(np.abs(out1 - out2)))"
   ]
  },
  {
   "cell_type": "code",
   "execution_count": 79,
   "metadata": {},
   "outputs": [
    {
     "name": "stdout",
     "output_type": "stream",
     "text": [
      "Running time of FRSVT: 0 seconds.\n",
      "\n",
      "Running time of SVT: 22 seconds.\n",
      "\n",
      "3540463.086629264\n"
     ]
    }
   ],
   "source": [
    "# Z = np.random.rand(5000, 3000)\n",
    "tau = 1\n",
    "k = 20\n",
    "J = 3\n",
    "\n",
    "import time\n",
    "\n",
    "start = time.time()\n",
    "out1 = FRSVT(Z, tau, k, J)\n",
    "end = time.time()\n",
    "print('Running time of FRSVT: %d seconds.'%(end - start))\n",
    "print()\n",
    "\n",
    "start = time.time()\n",
    "out2 = SVT(Z, tau)\n",
    "end = time.time()\n",
    "print('Running time of SVT: %d seconds.'%(end - start))\n",
    "print()\n",
    "\n",
    "print(np.sum(np.abs(out1 - out2)))"
   ]
  },
  {
   "cell_type": "code",
   "execution_count": 80,
   "metadata": {},
   "outputs": [
    {
     "name": "stdout",
     "output_type": "stream",
     "text": [
      "Running time of FRSVT: 2 seconds.\n",
      "\n",
      "Running time of SVT: 20 seconds.\n",
      "\n",
      "2672537.200480402\n"
     ]
    }
   ],
   "source": [
    "# Z = np.random.rand(5000, 3000)\n",
    "tau = 1\n",
    "k = 500\n",
    "J = 3\n",
    "\n",
    "import time\n",
    "\n",
    "start = time.time()\n",
    "out1 = FRSVT(Z, tau, k, J)\n",
    "end = time.time()\n",
    "print('Running time of FRSVT: %d seconds.'%(end - start))\n",
    "print()\n",
    "\n",
    "start = time.time()\n",
    "out2 = SVT(Z, tau)\n",
    "end = time.time()\n",
    "print('Running time of SVT: %d seconds.'%(end - start))\n",
    "print()\n",
    "\n",
    "print(np.sum(np.abs(out1 - out2)))"
   ]
  },
  {
   "cell_type": "code",
   "execution_count": 81,
   "metadata": {},
   "outputs": [
    {
     "name": "stdout",
     "output_type": "stream",
     "text": [
      "Running time of FRSVT: 6 seconds.\n",
      "\n",
      "Running time of SVT: 20 seconds.\n",
      "\n",
      "1985415.8485507227\n"
     ]
    }
   ],
   "source": [
    "# Z = np.random.rand(5000, 3000)\n",
    "tau = 1\n",
    "k = 1000\n",
    "J = 3\n",
    "\n",
    "import time\n",
    "\n",
    "start = time.time()\n",
    "out1 = FRSVT(Z, tau, k, J)\n",
    "end = time.time()\n",
    "print('Running time of FRSVT: %d seconds.'%(end - start))\n",
    "print()\n",
    "\n",
    "start = time.time()\n",
    "out2 = SVT(Z, tau)\n",
    "end = time.time()\n",
    "print('Running time of SVT: %d seconds.'%(end - start))\n",
    "print()\n",
    "\n",
    "print(np.sum(np.abs(out1 - out2)))"
   ]
  }
 ],
 "metadata": {
  "kernelspec": {
   "display_name": "Python 3",
   "language": "python",
   "name": "python3"
  },
  "language_info": {
   "codemirror_mode": {
    "name": "ipython",
    "version": 3
   },
   "file_extension": ".py",
   "mimetype": "text/x-python",
   "name": "python",
   "nbconvert_exporter": "python",
   "pygments_lexer": "ipython3",
   "version": "3.7.3"
  }
 },
 "nbformat": 4,
 "nbformat_minor": 2
}
